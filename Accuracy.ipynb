{
 "cells": [
  {
   "cell_type": "markdown",
   "metadata": {},
   "source": [
    "# Accuracy"
   ]
  },
  {
   "cell_type": "code",
   "execution_count": 1,
   "metadata": {},
   "outputs": [],
   "source": [
    "import tensorflow as tf\n",
    "from tensorflow import keras\n",
    "import numpy as np\n",
    "import pandas as pd\n",
    "import matplotlib.pyplot as plt\n",
    "\n",
    "tf.enable_eager_execution()\n",
    "\n",
    "config = tf.ConfigProto()\n",
    "config.gpu_options.allow_growth = True\n",
    "session = tf.Session(config=config)\n",
    "tf.keras.backend.set_session(session)\n",
    "\n",
    "AUTOTUNE = tf.data.experimental.AUTOTUNE"
   ]
  },
  {
   "cell_type": "markdown",
   "metadata": {},
   "source": [
    "## Load index csv"
   ]
  },
  {
   "cell_type": "code",
   "execution_count": 2,
   "metadata": {},
   "outputs": [
    {
     "name": "stdout",
     "output_type": "stream",
     "text": [
      "(629, 3)\n",
      "  image-name  label    label-name\n",
      "0      1.jpg     38  bonus-winter\n",
      "1      2.jpg     26  characters-8\n",
      "2      3.jpg      9        dots-9\n",
      "3      4.jpg     36  bonus-summer\n",
      "4      5.jpg     28   honors-east\n",
      "\n",
      "\n",
      "append path prefix\n",
      "(629, 4)\n",
      "  image-name  label    label-name                     image-path\n",
      "0      1.jpg     38  bonus-winter  ./dataset/tiles-resized/1.jpg\n",
      "1      2.jpg     26  characters-8  ./dataset/tiles-resized/2.jpg\n",
      "2      3.jpg      9        dots-9  ./dataset/tiles-resized/3.jpg\n",
      "3      4.jpg     36  bonus-summer  ./dataset/tiles-resized/4.jpg\n",
      "4      5.jpg     28   honors-east  ./dataset/tiles-resized/5.jpg\n",
      "\n",
      "\n",
      "subtract label id by 1\n",
      "(629, 4)\n",
      "  image-name  label    label-name                     image-path\n",
      "0      1.jpg     37  bonus-winter  ./dataset/tiles-resized/1.jpg\n",
      "1      2.jpg     25  characters-8  ./dataset/tiles-resized/2.jpg\n",
      "2      3.jpg      8        dots-9  ./dataset/tiles-resized/3.jpg\n",
      "3      4.jpg     35  bonus-summer  ./dataset/tiles-resized/4.jpg\n",
      "4      5.jpg     27   honors-east  ./dataset/tiles-resized/5.jpg\n",
      "\n",
      "\n"
     ]
    }
   ],
   "source": [
    "dataset_index = pd.read_csv('./dataset/tiles-data/data.csv')\n",
    "print(dataset_index.shape)\n",
    "print(dataset_index.head())\n",
    "print('\\n')\n",
    "\n",
    "dataset_size = dataset_index.shape[0]\n",
    "num_classes = np.amax(dataset_index['label'])\n",
    "\n",
    "# append path prefix\n",
    "dataset_index['image-path'] = './dataset/tiles-resized/' + dataset_index['image-name']\n",
    "\n",
    "print('append path prefix')\n",
    "print(dataset_index.shape)\n",
    "print(dataset_index.head())\n",
    "print('\\n')\n",
    "\n",
    "# subtract label id by 1\n",
    "dataset_index['label'] -= 1\n",
    "\n",
    "test_index = dataset_index\n",
    "test_size = test_index.shape[0]\n",
    "\n",
    "print('subtract label id by 1')\n",
    "print(test_index.shape)\n",
    "print(test_index.head())\n",
    "print('\\n')"
   ]
  },
  {
   "cell_type": "markdown",
   "metadata": {},
   "source": [
    "## Get dataset, preprocessing"
   ]
  },
  {
   "cell_type": "code",
   "execution_count": 3,
   "metadata": {},
   "outputs": [
    {
     "name": "stdout",
     "output_type": "stream",
     "text": [
      "WARNING:tensorflow:From C:\\Users\\Esmond\\Anaconda3\\lib\\site-packages\\tensorflow\\python\\ops\\control_flow_ops.py:3632: colocate_with (from tensorflow.python.framework.ops) is deprecated and will be removed in a future version.\n",
      "Instructions for updating:\n",
      "Colocations handled automatically by placer.\n",
      "test size 2516\n"
     ]
    }
   ],
   "source": [
    "def show_image_sample(ds):\n",
    "    for n, (image, label) in enumerate(ds.take(4)):\n",
    "        plt.subplot(2,2,n+1)\n",
    "        plt.imshow(image)\n",
    "        plt.grid(False)\n",
    "        plt.xticks([])\n",
    "        plt.yticks([])\n",
    "        plt.xlabel(np.argmax(label))\n",
    "    plt.show()\n",
    "\n",
    "def read_image(path):\n",
    "    image = tf.read_file(path)\n",
    "    image = tf.image.decode_jpeg(image, channels=3)\n",
    "    image = tf.image.resize_images(image, [320, 320])\n",
    "    image /= 255.0 # normalize to [0,1]\n",
    "    return image\n",
    "\n",
    "def rotate_image(image, label):\n",
    "    image = tf.image.rot90(image)\n",
    "    return image, label\n",
    "\n",
    "def get_dataset(dataset_index):\n",
    "    path_ds = tf.data.Dataset.from_tensor_slices(dataset_index['image-path'])\n",
    "    image_ds = path_ds.map(read_image, num_parallel_calls=AUTOTUNE)\n",
    "    \n",
    "    label_one_hot = tf.one_hot(dataset_index['label'], num_classes)\n",
    "    label_ds = tf.data.Dataset.from_tensor_slices(label_one_hot)\n",
    "    \n",
    "    paired_ds = tf.data.Dataset.zip((image_ds, label_ds))\n",
    "    \n",
    "    paired_ds_90 = paired_ds.map(rotate_image, num_parallel_calls=AUTOTUNE)\n",
    "    paired_ds_180 = paired_ds_90.map(rotate_image, num_parallel_calls=AUTOTUNE)\n",
    "    paired_ds_270 = paired_ds_180.map(rotate_image, num_parallel_calls=AUTOTUNE)\n",
    "    paired_ds = paired_ds.concatenate(paired_ds_90).concatenate(paired_ds_180).concatenate(paired_ds_270)\n",
    "\n",
    "    return paired_ds\n",
    "    \n",
    "test_ds = get_dataset(test_index)\n",
    "test_size *= 4\n",
    "print('test size', test_size)"
   ]
  },
  {
   "cell_type": "markdown",
   "metadata": {},
   "source": [
    "## Load classifier"
   ]
  },
  {
   "cell_type": "code",
   "execution_count": 4,
   "metadata": {},
   "outputs": [
    {
     "name": "stdout",
     "output_type": "stream",
     "text": [
      "WARNING:tensorflow:No training configuration found in save file: the model was *not* compiled. Compile it manually.\n",
      "WARNING:tensorflow:From C:\\Users\\Esmond\\Anaconda3\\lib\\site-packages\\tensorflow\\python\\keras\\layers\\core.py:143: calling dropout (from tensorflow.python.ops.nn_ops) with keep_prob is deprecated and will be removed in a future version.\n",
      "Instructions for updating:\n",
      "Please use `rate` instead of `keep_prob`. Rate should be set to `rate = 1 - keep_prob`.\n",
      "WARNING:tensorflow:No training configuration found in save file: the model was *not* compiled. Compile it manually.\n",
      "_________________________________________________________________\n",
      "Layer (type)                 Output Shape              Param #   \n",
      "=================================================================\n",
      "input_1 (InputLayer)         (None, 320, 320, 3)       0         \n",
      "_________________________________________________________________\n",
      "encoder (Sequential)         (None, 16, 16, 16)        18656     \n",
      "_________________________________________________________________\n",
      "fc (Sequential)              (None, 42)                809066    \n",
      "=================================================================\n",
      "Total params: 827,722\n",
      "Trainable params: 0\n",
      "Non-trainable params: 827,722\n",
      "_________________________________________________________________\n",
      "None\n"
     ]
    }
   ],
   "source": [
    "encoder = keras.models.load_model('./models/encoder_final.h5')\n",
    "fc = keras.models.load_model('./models/fc_final.h5')\n",
    "\n",
    "# Prevent training\n",
    "for layer in encoder.layers:\n",
    "    layer.trainable = False\n",
    "    \n",
    "for layer in fc.layers:\n",
    "    layer.trainable = False\n",
    "\n",
    "classifier_input = keras.Input(shape=(320,320,3))\n",
    "classifier_output = fc(encoder(classifier_input))\n",
    "classifier = keras.Model(inputs=classifier_input, outputs=classifier_output)\n",
    "\n",
    "print(classifier.summary())"
   ]
  },
  {
   "cell_type": "markdown",
   "metadata": {},
   "source": [
    "## Predict"
   ]
  },
  {
   "cell_type": "code",
   "execution_count": 23,
   "metadata": {},
   "outputs": [
    {
     "name": "stdout",
     "output_type": "stream",
     "text": [
      "WARNING:tensorflow:Your dataset iterator ran out of data.\n",
      "WARNING:tensorflow:Your dataset iterator ran out of data.\n",
      "WARNING:tensorflow:Your dataset iterator ran out of data.\n",
      "WARNING:tensorflow:Your dataset iterator ran out of data.\n",
      "WARNING:tensorflow:Your dataset iterator ran out of data.\n",
      "{0: [], 1: [], 2: [], 3: [], 4: []}\n"
     ]
    }
   ],
   "source": [
    "batch_size = 32\n",
    "\n",
    "def add_dimension(image, label):\n",
    "    image = image[np.newaxis,:]\n",
    "    return image, label\n",
    "\n",
    "test_ds_classes = {}\n",
    "predicts = {}\n",
    "\n",
    "for i in range(num_classes):\n",
    "    test_ds_classes[i] = test_ds.filter(lambda x, y: y == i)\\\n",
    "                                .map(add_dimension, num_parallel_calls=AUTOTUNE)\\\n",
    "                                .cache()\\\n",
    "                                .apply(tf.data.experimental.shuffle_and_repeat(buffer_size=test_size))\\\n",
    "                                .prefetch(buffer_size=AUTOTUNE)\n",
    "\n",
    "# for cls, ds in test_ds_classes.items():\n",
    "#     predicts[cls] = classifier.predict(ds, 1)\n",
    "\n",
    "for cls in range(5):\n",
    "    predicts[cls] = classifier.predict(test_ds_classes[cls], steps=1)\n",
    "\n",
    "print(predicts)"
   ]
  },
  {
   "cell_type": "code",
   "execution_count": null,
   "metadata": {},
   "outputs": [],
   "source": []
  }
 ],
 "metadata": {
  "kernelspec": {
   "display_name": "Python 3",
   "language": "python",
   "name": "python3"
  },
  "language_info": {
   "codemirror_mode": {
    "name": "ipython",
    "version": 3
   },
   "file_extension": ".py",
   "mimetype": "text/x-python",
   "name": "python",
   "nbconvert_exporter": "python",
   "pygments_lexer": "ipython3",
   "version": "3.7.3"
  }
 },
 "nbformat": 4,
 "nbformat_minor": 2
}
